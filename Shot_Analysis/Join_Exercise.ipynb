{
 "cells": [
  {
   "cell_type": "markdown",
   "metadata": {},
   "source": [
    "Let's create two example DataFrames that represent the Books and Borrowed_Books tables from the previous example."
   ]
  },
  {
   "cell_type": "code",
   "execution_count": 3,
   "metadata": {},
   "outputs": [],
   "source": [
    "import pandas as pd\n",
    "\n",
    "# Create Books DataFrame\n",
    "books_data = {\n",
    "    'ISBN': ['001', '002', '003'],\n",
    "    'Title': ['Book A', 'Book B', 'Book C']\n",
    "}\n",
    "books_df = pd.DataFrame(books_data)\n",
    "\n",
    "# Create Borrowers DataFrame\n",
    "borrowers_data = {\n",
    "    'ID': [101, 102],\n",
    "    'Name': ['John Doe', 'Jane Smith']\n",
    "}\n",
    "borrowers_df = pd.DataFrame(borrowers_data)\n",
    "\n",
    "# Create Borrowed_Books DataFrame\n",
    "borrowed_books_data = {\n",
    "    'Borrower_ID': [101, 102, 101],\n",
    "    'ISBN': ['001', '002', '002']\n",
    "}\n",
    "borrowed_books_df = pd.DataFrame(borrowed_books_data)\n"
   ]
  },
  {
   "cell_type": "markdown",
   "metadata": {},
   "source": [
    "We will join the Borrowers and Borrowed_Books DataFrames first, then join the result with the Books DataFrame."
   ]
  },
  {
   "cell_type": "code",
   "execution_count": 4,
   "metadata": {},
   "outputs": [
    {
     "name": "stdout",
     "output_type": "stream",
     "text": [
      "         Name   Title\n",
      "0    John Doe  Book A\n",
      "1    John Doe  Book B\n",
      "2  Jane Smith  Book B\n"
     ]
    }
   ],
   "source": [
    "# Join Borrowers and Borrowed_Books DataFrames\n",
    "borrowers_borrowed_books_df = pd.merge(borrowers_df, borrowed_books_df, left_on='ID', right_on='Borrower_ID', how='inner')\n",
    "\n",
    "# Join the above result with Books DataFrame\n",
    "final_df = pd.merge(borrowers_borrowed_books_df, books_df, on='ISBN', how='inner')\n",
    "\n",
    "# Select the relevant columns\n",
    "final_df = final_df[['Name', 'Title']]\n",
    "\n",
    "print(final_df)\n"
   ]
  }
 ],
 "metadata": {
  "kernelspec": {
   "display_name": ".venv",
   "language": "python",
   "name": "python3"
  },
  "language_info": {
   "codemirror_mode": {
    "name": "ipython",
    "version": 3
   },
   "file_extension": ".py",
   "mimetype": "text/x-python",
   "name": "python",
   "nbconvert_exporter": "python",
   "pygments_lexer": "ipython3",
   "version": "3.12.0"
  }
 },
 "nbformat": 4,
 "nbformat_minor": 2
}
